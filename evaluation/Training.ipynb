{
 "cells": [
  {
   "cell_type": "code",
   "execution_count": 1,
   "id": "4719f5bb",
   "metadata": {},
   "outputs": [
    {
     "name": "stderr",
     "output_type": "stream",
     "text": [
      "2023-02-23 10:29:56.815270: I tensorflow/core/platform/cpu_feature_guard.cc:193] This TensorFlow binary is optimized with oneAPI Deep Neural Network Library (oneDNN) to use the following CPU instructions in performance-critical operations:  AVX2 AVX512F AVX512_VNNI FMA\n",
      "To enable them in other operations, rebuild TensorFlow with the appropriate compiler flags.\n",
      "2023-02-23 10:29:56.956198: I tensorflow/core/util/util.cc:169] oneDNN custom operations are on. You may see slightly different numerical results due to floating-point round-off errors from different computation orders. To turn them off, set the environment variable `TF_ENABLE_ONEDNN_OPTS=0`.\n",
      "2023-02-23 10:29:56.960763: W tensorflow/stream_executor/platform/default/dso_loader.cc:64] Could not load dynamic library 'libcudart.so.11.0'; dlerror: libcudart.so.11.0: cannot open shared object file: No such file or directory; LD_LIBRARY_PATH: /home/ardenk14/anaconda3/envs/keypoint/lib/python3.10/site-packages/cv2/../../lib64:/opt/ros/noetic/lib\n",
      "2023-02-23 10:29:56.960776: I tensorflow/stream_executor/cuda/cudart_stub.cc:29] Ignore above cudart dlerror if you do not have a GPU set up on your machine.\n",
      "2023-02-23 10:29:56.984073: E tensorflow/stream_executor/cuda/cuda_blas.cc:2981] Unable to register cuBLAS factory: Attempting to register factory for plugin cuBLAS when one has already been registered\n",
      "2023-02-23 10:29:57.553252: W tensorflow/stream_executor/platform/default/dso_loader.cc:64] Could not load dynamic library 'libnvinfer.so.7'; dlerror: libnvinfer.so.7: cannot open shared object file: No such file or directory; LD_LIBRARY_PATH: /home/ardenk14/anaconda3/envs/keypoint/lib/python3.10/site-packages/cv2/../../lib64:/opt/ros/noetic/lib\n",
      "2023-02-23 10:29:57.553385: W tensorflow/stream_executor/platform/default/dso_loader.cc:64] Could not load dynamic library 'libnvinfer_plugin.so.7'; dlerror: libnvinfer_plugin.so.7: cannot open shared object file: No such file or directory; LD_LIBRARY_PATH: /home/ardenk14/anaconda3/envs/keypoint/lib/python3.10/site-packages/cv2/../../lib64:/opt/ros/noetic/lib\n",
      "2023-02-23 10:29:57.553391: W tensorflow/compiler/tf2tensorrt/utils/py_utils.cc:38] TF-TRT Warning: Cannot dlopen some TensorRT libraries. If you would like to use Nvidia GPU with TensorRT, please make sure the missing libraries mentioned above are installed properly.\n"
     ]
    },
    {
     "name": "stdout",
     "output_type": "stream",
     "text": [
      "Loading DLC 2.3.0...\n"
     ]
    },
    {
     "name": "stderr",
     "output_type": "stream",
     "text": [
      "/home/ardenk14/anaconda3/envs/keypoint/lib/python3.10/site-packages/tqdm/auto.py:22: TqdmWarning: IProgress not found. Please update jupyter and ipywidgets. See https://ipywidgets.readthedocs.io/en/stable/user_install.html\n",
      "  from .autonotebook import tqdm as notebook_tqdm\n"
     ]
    }
   ],
   "source": [
    "import sys\n",
    "sys.path.insert(0, '../keypoint_optimization')\n",
    "\n",
    "import functions"
   ]
  },
  {
   "cell_type": "code",
   "execution_count": 2,
   "id": "b8690db9",
   "metadata": {},
   "outputs": [
    {
     "name": "stdout",
     "output_type": "stream",
     "text": [
      "CONFIGS:  {'all_joints': [[0], [1], [2], [3], [4], [5], [6]], 'all_joints_names': ['f0', 'f1', 'f2', 'f3', 'f4', 'f5', 'f6'], 'batch_size': 1, 'dataset': '/home/ardenk14/keypoint_optimization/keypoint_optimization/train.mat', 'dataset_type': 'default', 'display_iters': 100, 'init_weights': '/home/ardenk14/keypoint_optimization/keypoint_optimization/data_generation/pretrained_model/resnet_v1_50.ckpt', 'intermediate_supervision': False, 'intermediate_supervision_layer': 12, 'location_refinement': True, 'locref_huber_loss': True, 'locref_loss_weight': 0.05, 'locref_stdev': 7.2801, 'mirror': False, 'multi_step': [[0.005, 10000], [0.02, 30000], [0.002, 50000]], 'net_type': 'resnet_50', 'num_joints': 7, 'pos_dist_thresh': 17, 'project_path': '/home/ardenk14/keypoint_optimization/keypoint_optimization', 'save_iters': 10000}\n",
      "Label_file:  data\n",
      "TRAIN_INDEX:  [0, 1, 2, 3, 4]\n",
      "FEATURE_IDX:  [0, 1, 2, 3, 4]\n",
      "PROJECT_PATH:  /home/ardenk14/keypoint_optimization/keypoint_optimization\n",
      "i:  0\n",
      "FILENAME:  /keypoint_optimization/evaluation/data_test/1601087743421914714.png\n",
      "i:  1\n",
      "FILENAME:  /keypoint_optimization/evaluation/data_test/1601087743421914714.png\n",
      "i:  2\n",
      "FILENAME:  /keypoint_optimization/evaluation/data_test/1601087743421914714.png\n",
      "i:  3\n",
      "FILENAME:  /keypoint_optimization/evaluation/data_test/1601087743421914714.png\n",
      "i:  4\n",
      "FILENAME:  /keypoint_optimization/evaluation/data_test/1601087743421914714.png\n"
     ]
    }
   ],
   "source": [
    "functions.prepare_dataset(5, [0, 1, 2, 3, 4], '../keypoint_optimization/pose_cfg_test.yaml')\n"
   ]
  },
  {
   "cell_type": "code",
   "execution_count": null,
   "id": "7fc93017",
   "metadata": {
    "scrolled": false
   },
   "outputs": [
    {
     "name": "stderr",
     "output_type": "stream",
     "text": [
      "Config:\n",
      "{'all_joints': [[0], [1], [2], [3], [4], [5], [6]],\n",
      " 'all_joints_names': ['f0', 'f1', 'f2', 'f3', 'f4', 'f5', 'f6'],\n",
      " 'batch_size': 1,\n",
      " 'crop_pad': 0,\n",
      " 'dataset': '/home/ardenk14/keypoint_optimization/keypoint_optimization/train.mat',\n",
      " 'dataset_type': 'default',\n",
      " 'deterministic': False,\n",
      " 'display_iters': 100,\n",
      " 'fg_fraction': 0.25,\n",
      " 'global_scale': 1.0,\n",
      " 'init_weights': '/home/ardenk14/keypoint_optimization/keypoint_optimization/data_generation/pretrained_model/resnet_v1_50.ckpt',\n",
      " 'intermediate_supervision': False,\n",
      " 'intermediate_supervision_layer': 12,\n",
      " 'location_refinement': True,\n",
      " 'locref_huber_loss': True,\n",
      " 'locref_loss_weight': 0.05,\n",
      " 'locref_stdev': 7.2801,\n",
      " 'log_dir': 'log',\n",
      " 'mean_pixel': [123.68, 116.779, 103.939],\n",
      " 'mirror': False,\n",
      " 'multi_step': [[0.005, 10000], [0.02, 30000], [0.002, 50000]],\n",
      " 'net_type': 'resnet_50',\n",
      " 'num_joints': 7,\n",
      " 'optimizer': 'sgd',\n",
      " 'pairwise_huber_loss': True,\n",
      " 'pairwise_predict': False,\n",
      " 'partaffinityfield_predict': False,\n",
      " 'pos_dist_thresh': 17,\n",
      " 'project_path': '/home/ardenk14/keypoint_optimization/keypoint_optimization',\n",
      " 'regularize': False,\n",
      " 'save_iters': 10000,\n",
      " 'scoremap_dir': 'test',\n",
      " 'shuffle': True,\n",
      " 'snapshot_prefix': '../keypoint_optimization/pose_cfg_test.yamlsnapshot',\n",
      " 'stride': 8.0,\n",
      " 'weigh_negatives': False,\n",
      " 'weigh_only_present_joints': False,\n",
      " 'weigh_part_predictions': False,\n",
      " 'weight_decay': 0.0001}\n"
     ]
    },
    {
     "name": "stdout",
     "output_type": "stream",
     "text": [
      "TRYING TO TRAIN\n",
      "Batch Size is 1\n"
     ]
    },
    {
     "name": "stderr",
     "output_type": "stream",
     "text": [
      "/home/ardenk14/anaconda3/envs/keypoint/lib/python3.10/site-packages/tensorflow/python/keras/engine/base_layer_v1.py:1694: UserWarning: `layer.apply` is deprecated and will be removed in a future version. Please use `layer.__call__` method instead.\n",
      "  warnings.warn('`layer.apply` is deprecated and '\n",
      "2023-02-23 10:30:04.123087: I tensorflow/stream_executor/cuda/cuda_gpu_executor.cc:966] could not open file to read NUMA node: /sys/bus/pci/devices/0000:02:00.0/numa_node\n",
      "Your kernel may have been built without NUMA support.\n",
      "2023-02-23 10:30:04.123427: W tensorflow/stream_executor/platform/default/dso_loader.cc:64] Could not load dynamic library 'libcufft.so.10'; dlerror: libcufft.so.10: cannot open shared object file: No such file or directory; LD_LIBRARY_PATH: /home/ardenk14/anaconda3/envs/keypoint/lib/python3.10/site-packages/cv2/../../lib64:/opt/ros/noetic/lib\n",
      "2023-02-23 10:30:04.123499: W tensorflow/stream_executor/platform/default/dso_loader.cc:64] Could not load dynamic library 'libcurand.so.10'; dlerror: libcurand.so.10: cannot open shared object file: No such file or directory; LD_LIBRARY_PATH: /home/ardenk14/anaconda3/envs/keypoint/lib/python3.10/site-packages/cv2/../../lib64:/opt/ros/noetic/lib\n",
      "2023-02-23 10:30:04.123564: W tensorflow/stream_executor/platform/default/dso_loader.cc:64] Could not load dynamic library 'libcusolver.so.11'; dlerror: libcusolver.so.11: cannot open shared object file: No such file or directory; LD_LIBRARY_PATH: /home/ardenk14/anaconda3/envs/keypoint/lib/python3.10/site-packages/cv2/../../lib64:/opt/ros/noetic/lib\n",
      "2023-02-23 10:30:04.123657: W tensorflow/stream_executor/platform/default/dso_loader.cc:64] Could not load dynamic library 'libcusparse.so.11'; dlerror: libcusparse.so.11: cannot open shared object file: No such file or directory; LD_LIBRARY_PATH: /home/ardenk14/anaconda3/envs/keypoint/lib/python3.10/site-packages/cv2/../../lib64:/opt/ros/noetic/lib\n",
      "2023-02-23 10:30:04.123720: W tensorflow/core/common_runtime/gpu/gpu_device.cc:1934] Cannot dlopen some GPU libraries. Please make sure the missing libraries mentioned above are installed properly if you would like to use GPU. Follow the guide at https://www.tensorflow.org/install/gpu for how to download and setup the required libraries for your platform.\n",
      "Skipping registering GPU devices...\n",
      "2023-02-23 10:30:04.125375: I tensorflow/core/platform/cpu_feature_guard.cc:193] This TensorFlow binary is optimized with oneAPI Deep Neural Network Library (oneDNN) to use the following CPU instructions in performance-critical operations:  AVX2 AVX512F AVX512_VNNI FMA\n",
      "To enable them in other operations, rebuild TensorFlow with the appropriate compiler flags.\n"
     ]
    },
    {
     "name": "stdout",
     "output_type": "stream",
     "text": [
      "Loading ImageNet-pretrained resnet_50\n"
     ]
    },
    {
     "name": "stderr",
     "output_type": "stream",
     "text": [
      "Exception in thread Thread-5 (load_and_enqueue):\n",
      "Traceback (most recent call last):\n",
      "  File \"/home/ardenk14/anaconda3/envs/keypoint/lib/python3.10/threading.py\", line 1016, in _bootstrap_inner\n",
      "    self.run()\n",
      "  File \"/home/ardenk14/anaconda3/envs/keypoint/lib/python3.10/threading.py\", line 953, in run\n",
      "    self._target(*self._args, **self._kwargs)\n",
      "  File \"/home/ardenk14/anaconda3/envs/keypoint/lib/python3.10/site-packages/deeplabcut/pose_estimation_tensorflow/core/train.py\", line 83, in load_and_enqueue\n",
      "    batch_np = dataset.next_batch()\n",
      "  File \"/home/ardenk14/anaconda3/envs/keypoint/lib/python3.10/site-packages/deeplabcut/pose_estimation_tensorflow/datasets/pose_imgaug.py\", line 406, in next_batch\n",
      "    ) = self.get_batch()\n",
      "  File \"/home/ardenk14/anaconda3/envs/keypoint/lib/python3.10/site-packages/deeplabcut/pose_estimation_tensorflow/datasets/pose_imgaug.py\", line 297, in get_batch\n",
      "    img_idx = np.random.choice(self.num_images, size=self.batch_size, replace=True)\n",
      "  File \"mtrand.pyx\", line 909, in numpy.random.mtrand.RandomState.choice\n",
      "ValueError: a must be greater than 0 unless no samples are taken\n",
      "2023-02-23 10:30:06.498578: I tensorflow/compiler/mlir/mlir_graph_optimization_pass.cc:354] MLIR V1 optimization pass is not enabled\n"
     ]
    },
    {
     "name": "stdout",
     "output_type": "stream",
     "text": [
      "Max_iters overwritten as 2\n",
      "Display_iters overwritten as 1\n",
      "Training parameter:\n",
      "{'stride': 8.0, 'weigh_part_predictions': False, 'weigh_negatives': False, 'fg_fraction': 0.25, 'mean_pixel': [123.68, 116.779, 103.939], 'shuffle': True, 'snapshot_prefix': '../keypoint_optimization/pose_cfg_test.yamlsnapshot', 'log_dir': 'log', 'global_scale': 1.0, 'location_refinement': True, 'locref_stdev': 7.2801, 'locref_loss_weight': 0.05, 'locref_huber_loss': True, 'optimizer': 'sgd', 'intermediate_supervision': False, 'intermediate_supervision_layer': 12, 'regularize': False, 'weight_decay': 0.0001, 'crop_pad': 0, 'scoremap_dir': 'test', 'batch_size': 1, 'dataset_type': 'default', 'deterministic': False, 'mirror': False, 'pairwise_huber_loss': True, 'weigh_only_present_joints': False, 'partaffinityfield_predict': False, 'pairwise_predict': False, 'all_joints': [[0], [1], [2], [3], [4], [5], [6]], 'all_joints_names': ['f0', 'f1', 'f2', 'f3', 'f4', 'f5', 'f6'], 'dataset': '/home/ardenk14/keypoint_optimization/keypoint_optimization/train.mat', 'display_iters': 100, 'init_weights': '/home/ardenk14/keypoint_optimization/keypoint_optimization/data_generation/pretrained_model/resnet_v1_50.ckpt', 'multi_step': [[0.005, 10000], [0.02, 30000], [0.002, 50000]], 'net_type': 'resnet_50', 'num_joints': 7, 'pos_dist_thresh': 17, 'project_path': '/home/ardenk14/keypoint_optimization/keypoint_optimization', 'save_iters': 10000, 'rotation': 25, 'rotratio': 0.4, 'covering': True, 'elastic_transform': True, 'motion_blur': True, 'motion_blur_params': {'k': 7, 'angle': (-90, 90)}}\n",
      "Starting training....\n"
     ]
    }
   ],
   "source": [
    "functions.train_network('../keypoint_optimization/pose_cfg_test.yaml')"
   ]
  }
 ],
 "metadata": {
  "kernelspec": {
   "display_name": "Python 3 (ipykernel)",
   "language": "python",
   "name": "python3"
  },
  "language_info": {
   "codemirror_mode": {
    "name": "ipython",
    "version": 3
   },
   "file_extension": ".py",
   "mimetype": "text/x-python",
   "name": "python",
   "nbconvert_exporter": "python",
   "pygments_lexer": "ipython3",
   "version": "3.10.9"
  }
 },
 "nbformat": 4,
 "nbformat_minor": 5
}
