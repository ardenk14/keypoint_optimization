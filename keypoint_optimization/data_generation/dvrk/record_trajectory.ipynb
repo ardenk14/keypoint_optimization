{
 "cells": [
  {
   "cell_type": "code",
   "execution_count": 1,
   "metadata": {},
   "outputs": [],
   "source": [
    "from pyrep.pyrep import PyRep\n",
    "from pyrep.objects.joint import Joint\n",
    "from pyrep.objects.object import Object\n",
    "from pyrep.objects.dummy import Dummy\n",
    "from pyrep.objects.vision_sensor import VisionSensor\n",
    "from pyrep.objects.proximity_sensor import ProximitySensor\n",
    "from pyrep.objects.shape import Shape\n",
    "import transforms3d.quaternions as quaternions\n",
    "import transforms3d.euler as euler\n",
    "\n",
    "import pandas as pd \n",
    "import numpy as np\n",
    "import time\n",
    "import matplotlib.pyplot as plt\n",
    "import cv2\n",
    "import pickle\n",
    "import pywt\n",
    "from numpy import random\n"
   ]
  },
  {
   "cell_type": "code",
   "execution_count": 2,
   "metadata": {},
   "outputs": [],
   "source": [
    "def posquat2Matrix(pos, quat):\n",
    "    T = np.eye(4)\n",
    "    T[0:3, 0:3] = quaternions.quat2mat([quat[-1], quat[0], quat[1], quat[2]])\n",
    "    T[0:3, 3] = pos\n",
    "\n",
    "    return np.array(T)\n",
    "\n",
    "def matrix2posquat(T):\n",
    "    pos = T[0:3, 3]\n",
    "    quat = quaternions.mat2quat(T[0:3, 0:3])\n",
    "    quat = [quat[1], quat[2], quat[3], quat[0]]\n",
    "\n",
    "    return np.array(pos), np.array(quat)\n",
    "    \n",
    "    \n",
    "def setPoseAtEE(pos, quat, jawAngle):\n",
    "    \n",
    "    theta = 0.4106*jawAngle\n",
    "\n",
    "    b_T_ee = posquat2Matrix(pos, quat)\n",
    "\n",
    "    #Taken from simulator. This is a weird transform\n",
    "    ee_T_sx = np.array([[ 9.99191168e-01,  4.02120491e-02, -5.31786338e-06,4.17232513e-07],\n",
    "                   [-4.01793160e-02,  9.98383134e-01,  4.02087139e-02, -1.16467476e-04],\n",
    "                   [ 1.62218404e-03, -4.01759782e-02,  9.99191303e-01, -3.61323357e-04],\n",
    "                   [ 0.00000000e+00,  0.00000000e+00,  0.00000000e+00,1.00000000e+00]])\n",
    "\n",
    "    ee_T_dx = np.array([[-9.99191251e-01, -4.02099858e-02, -1.98098369e-06, 4.17232513e-07],\n",
    "                   [-4.01773877e-02,  9.98383193e-01, -4.02091818e-02, -1.16467476e-04],\n",
    "                   [ 1.61878841e-03, -4.01765831e-02, -9.99191284e-01, -3.61323357e-04],\n",
    "                   [ 0.00000000e+00,  0.00000000e+00,  0.00000000e+00,  1.00000000e+00]])\n",
    "    #These transforms do NOT compensate super well yet... \n",
    "    #More investigation needs to be done.\n",
    "\n",
    "    b_T_sx = np.dot(b_T_ee, ee_T_sx)\n",
    "    b_T_dx = np.dot(b_T_ee, ee_T_dx)\n",
    "\n",
    "    ct = np.cos(theta)\n",
    "    st = np.sin(theta)\n",
    "\n",
    "    #Rotate clockwise about z by theta\n",
    "    x_T_ts = np.array([[ct, -st, 0,  -st*0.009,],\n",
    "                     [st,    ct, 0,   ct*0.009],\n",
    "                     [0 ,   0, 1, 0,],\n",
    "                     [0,    0, 0, 1]])\n",
    "\n",
    "    # #Rotate counter clockwise about z by theta\n",
    "    # dx_T_td = np.array([[ct, st, 0, 0],\n",
    "    # \t\t\t\t [-st,ct, 0, 0],\n",
    "    # \t\t\t\t [0 ,   0, 1, 0],\n",
    "    # \t\t\t\t [0,    0, 0, 1]])\n",
    "    pos_sx, quat_sx = matrix2posquat(np.dot(b_T_sx, x_T_ts))\n",
    "    pos_dx, quat_dx = matrix2posquat(np.dot(b_T_dx, x_T_ts))\n",
    "    # #Translate to the end of the jaw:\n",
    "    # pos_sx = [pos_sx[0], pos_sx[1], pos_sx[2] - 0.009]\n",
    "    # pos_dx = [pos_dx[0], pos_dx[1], pos_dx[2]]\n",
    "    \n",
    "    return np.hstack((pos_sx, quat_sx)),np.hstack((pos_dx, quat_dx))"
   ]
  },
  {
   "cell_type": "code",
   "execution_count": 3,
   "metadata": {},
   "outputs": [],
   "source": [
    "pr = PyRep()\n",
    "pr.launch('dvrk_rendering_feature_opt.ttt')\n",
    "pr.start()"
   ]
  },
  {
   "cell_type": "code",
   "execution_count": 4,
   "metadata": {},
   "outputs": [],
   "source": [
    "cam_center = Dummy(\"cam_center\")\n",
    "cam_center_near = Dummy(\"cam_near\")\n",
    "init_point = Dummy(\"init_point\")\n",
    "init_point_pos = init_point.get_position()\n",
    "\n",
    "dx = Dummy(\"IK_target_dx_PSM1\")\n",
    "sx = Dummy(\"IK_target_sx_PSM1\")\n",
    "\n",
    "EE = Dummy(\"EE_virtual_TOOL1\")\n",
    "\n",
    "l_cam = VisionSensor(\"Vision_sensor_left\")\n",
    "track_cam = VisionSensor(\"tracking_cam\")\n",
    "\n",
    "cam_pos = cam_center.get_position()\n",
    "current_pos = sx.get_position()"
   ]
  },
  {
   "cell_type": "code",
   "execution_count": 5,
   "metadata": {},
   "outputs": [],
   "source": [
    "# set to cam center\n",
    "sx.set_position(cam_center_near.get_position())\n",
    "dx.set_position(cam_center_near.get_position())\n",
    "pr.step()\n",
    "sx_init_pose = sx.get_pose()\n",
    "dx_init_pose = dx.get_pose()\n",
    "\n",
    "sx_pose_list = []\n",
    "dx_pose_list = []"
   ]
  },
  {
   "cell_type": "code",
   "execution_count": 6,
   "metadata": {},
   "outputs": [],
   "source": [
    "# set to initial position\n",
    "sx.set_pose(sx_init_pose)\n",
    "dx.set_pose(dx_init_pose)\n",
    "pr.step()"
   ]
  },
  {
   "cell_type": "code",
   "execution_count": 7,
   "metadata": {},
   "outputs": [],
   "source": [
    "# open gripper\n",
    "sx_pose,dx_pose = setPoseAtEE(EE.get_pose()[:3], EE.get_pose()[3:], np.pi/3)\n",
    "sx.set_pose(sx_pose)\n",
    "dx.set_pose(dx_pose)\n",
    "pr.step()\n",
    "time.sleep(1)\n",
    "sx_pose,dx_pose = setPoseAtEE(EE.get_pose()[:3], EE.get_pose()[3:], -30)\n",
    "sx.set_pose(sx_pose)\n",
    "dx.set_pose(dx_pose)\n",
    "pr.step()"
   ]
  },
  {
   "cell_type": "code",
   "execution_count": 8,
   "metadata": {},
   "outputs": [],
   "source": [
    "for i in range(100):\n",
    "    random_offset = random.normal(loc=0.0, scale=[0.1,0.1,0.06], size=(3))\n",
    "    sx.set_orientation(random_offset,sx)\n",
    "    dx.set_orientation(random_offset,dx)\n",
    "    sx_pos = sx.get_position()\n",
    "    dx_pos = dx.get_position()\n",
    "    random_offset = random.normal(loc=0.0, scale=[0.001,0.001,0.0015], size=(3))\n",
    "    sx_pos += random_offset\n",
    "    dx_pos += random_offset\n",
    "    sx.set_position(sx_pos)\n",
    "    dx.set_position(dx_pos)\n",
    "    \n",
    "    pr.step()\n",
    "    sx_pose_list.append(sx.get_pose())\n",
    "    dx_pose_list.append(dx.get_pose())\n",
    "    time.sleep(0.01)"
   ]
  },
  {
   "cell_type": "code",
   "execution_count": null,
   "metadata": {},
   "outputs": [],
   "source": []
  },
  {
   "cell_type": "markdown",
   "metadata": {},
   "source": [
    "# delete last 100 moves"
   ]
  },
  {
   "cell_type": "code",
   "execution_count": 10,
   "metadata": {},
   "outputs": [],
   "source": [
    "sx_pose_list = sx_pose_list[:-100]\n",
    "dx_pose_list = dx_pose_list[:-100]"
   ]
  },
  {
   "cell_type": "markdown",
   "metadata": {},
   "source": [
    "# play recorded trajectory"
   ]
  },
  {
   "cell_type": "code",
   "execution_count": 11,
   "metadata": {},
   "outputs": [],
   "source": [
    "for i in range(len(sx_pose_list)):\n",
    "    sx.set_pose(sx_pose_list[i])\n",
    "    dx.set_pose(dx_pose_list[i])\n",
    "    pr.step()\n",
    "    time.sleep(0.01)"
   ]
  },
  {
   "cell_type": "code",
   "execution_count": 208,
   "metadata": {},
   "outputs": [
    {
     "data": {
      "text/plain": [
       "3830"
      ]
     },
     "execution_count": 208,
     "metadata": {},
     "output_type": "execute_result"
    }
   ],
   "source": [
    "len(sx_pose_list)"
   ]
  },
  {
   "cell_type": "markdown",
   "metadata": {},
   "source": [
    "# save recorded trajectory"
   ]
  },
  {
   "cell_type": "code",
   "execution_count": 211,
   "metadata": {},
   "outputs": [],
   "source": [
    "sx_pose_np = np.array(sx_pose_list)\n",
    "dx_pose_np = np.array(dx_pose_list)"
   ]
  },
  {
   "cell_type": "code",
   "execution_count": 212,
   "metadata": {},
   "outputs": [],
   "source": [
    "np.save(\"sx_pose.npy\",sx_pose_np)\n",
    "np.save(\"dx_pose.npy\",dx_pose_np)"
   ]
  },
  {
   "cell_type": "code",
   "execution_count": null,
   "metadata": {},
   "outputs": [],
   "source": []
  }
 ],
 "metadata": {
  "kernelspec": {
   "display_name": "Python [conda env:pyrep]",
   "language": "python",
   "name": "conda-env-pyrep-py"
  },
  "language_info": {
   "codemirror_mode": {
    "name": "ipython",
    "version": 3
   },
   "file_extension": ".py",
   "mimetype": "text/x-python",
   "name": "python",
   "nbconvert_exporter": "python",
   "pygments_lexer": "ipython3",
   "version": "3.7.7"
  }
 },
 "nbformat": 4,
 "nbformat_minor": 4
}
